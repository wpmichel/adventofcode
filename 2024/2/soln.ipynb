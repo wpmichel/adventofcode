{
 "cells": [
  {
   "cell_type": "code",
   "execution_count": 78,
   "metadata": {},
   "outputs": [],
   "source": [
    "def parse_input(use_example = True): \n",
    "    with open(\"example.txt\" if use_example else \"input.txt\") as f: \n",
    "        return [list(map(int, l.replace('\\n', '').split(' '))) for l in f.readlines()]"
   ]
  },
  {
   "cell_type": "code",
   "execution_count": 79,
   "metadata": {},
   "outputs": [],
   "source": [
    "def is_increasing(pos: int, levels: list[int]): \n",
    "    return levels[pos-1] < levels[pos]"
   ]
  },
  {
   "cell_type": "code",
   "execution_count": 80,
   "metadata": {},
   "outputs": [
    {
     "name": "stdout",
     "output_type": "stream",
     "text": [
      "220\n"
     ]
    }
   ],
   "source": [
    "# Puzzle 1 \n",
    "reports = parse_input(False)\n",
    "soln = {}\n",
    "for report_idx, levels in enumerate(reports):\n",
    "    soln[report_idx] = 1\n",
    "    increasing = None\n",
    "    idx = 1\n",
    "    while idx < len(levels): \n",
    "        level = levels[idx]\n",
    "        prior = idx - 1\n",
    "        if increasing is None: \n",
    "            increasing = is_increasing(idx, levels)\n",
    "        \n",
    "        if (level == levels[prior] # neither increasing, nor decreasing\n",
    "            or increasing != is_increasing(idx, levels) # changes direction\n",
    "            or abs(levels[idx] - levels[prior]) > 3 # too big a gap\n",
    "        ):  \n",
    "            soln[report_idx] = 0 \n",
    "            break\n",
    "        idx += 1\n",
    "\n",
    "with open(\"soln.txt\", 'w') as f: \n",
    "    for v in soln.values(): \n",
    "        f.write(f\"{v}\\n\")\n",
    "\n",
    "print(sum(soln.values()))\n"
   ]
  },
  {
   "cell_type": "code",
   "execution_count": 81,
   "metadata": {},
   "outputs": [],
   "source": [
    "def is_safe(levels, mulligan = False): \n",
    "    increasing = None\n",
    "    idx = 1\n",
    "    while idx < len(levels): \n",
    "        level = levels[idx]\n",
    "        prior = idx - 1\n",
    "        if increasing is None: \n",
    "            increasing = is_increasing(idx, levels)\n",
    "        \n",
    "        if (level == levels[prior] # neither increasing, nor decreasing\n",
    "            or increasing != is_increasing(idx, levels) # changes direction\n",
    "            or abs(levels[idx] - levels[prior]) > 3 # too big a gap\n",
    "        ):  \n",
    "            if mulligan: # already used our mulligan \n",
    "                return False\n",
    "            \n",
    "            print(f\"removing {levels[prior]} from report {report_idx+1}\")\n",
    "            return is_safe(list(levels).remove(levels[prior])) or is_safe(list(levels).remove(levels[idx]))\n",
    "        idx += 1\n",
    "    return True\n",
    "        "
   ]
  },
  {
   "cell_type": "code",
   "execution_count": null,
   "metadata": {},
   "outputs": [
    {
     "name": "stdout",
     "output_type": "stream",
     "text": [
      "4\n"
     ]
    }
   ],
   "source": [
    "# Puzzle 2\n",
    "def is_safe(levels, mulligan=False): \n",
    "    \"\"\"\n",
    "    Check if a sequence of levels is safe according to reactor rules.\n",
    "    With mulligan=True, allows removing one element to make sequence safe.\n",
    "    \"\"\"\n",
    "    def check_sequence(seq):\n",
    "        if len(seq) <= 1:\n",
    "            return True\n",
    "            \n",
    "        increasing = seq[1] > seq[0]\n",
    "        for i in range(1, len(seq)):\n",
    "            if (seq[i] == seq[i-1] or  # neither increasing nor decreasing\n",
    "                (increasing and seq[i] <= seq[i-1]) or  # wrong direction\n",
    "                (not increasing and seq[i] >= seq[i-1]) or  # wrong direction\n",
    "                abs(seq[i] - seq[i-1]) > 3):  # too big a gap\n",
    "                return False\n",
    "        return True\n",
    "    \n",
    "    # Base case - check if sequence is already safe\n",
    "    if check_sequence(levels):\n",
    "        return True\n",
    "        \n",
    "    # If we've already used our mulligan, fail\n",
    "    if mulligan:\n",
    "        return False\n",
    "        \n",
    "    # Try removing each element once\n",
    "    for i in range(len(levels)):\n",
    "        new_levels = levels[:i] + levels[i+1:]\n",
    "        if check_sequence(new_levels):\n",
    "            return True\n",
    "            \n",
    "    return False\n",
    "        \n",
    "reports = parse_input(False)\n",
    "soln = {}\n",
    "for report_idx, levels in enumerate(reports):\n",
    "    soln[report_idx] = 1 if is_safe(levels) else 0\n",
    "\n",
    "\n",
    "with open(\"soln.txt\", 'w') as f: \n",
    "    for v in soln.values(): \n",
    "        f.write(f\"{v}\\n\")\n",
    "\n",
    "print(sum(soln.values()))\n"
   ]
  }
 ],
 "metadata": {
  "kernelspec": {
   "display_name": "venv",
   "language": "python",
   "name": "python3"
  },
  "language_info": {
   "codemirror_mode": {
    "name": "ipython",
    "version": 3
   },
   "file_extension": ".py",
   "mimetype": "text/x-python",
   "name": "python",
   "nbconvert_exporter": "python",
   "pygments_lexer": "ipython3",
   "version": "3.11.10"
  }
 },
 "nbformat": 4,
 "nbformat_minor": 2
}
