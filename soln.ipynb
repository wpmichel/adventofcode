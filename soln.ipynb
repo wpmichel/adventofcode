{
 "cells": [
  {
   "cell_type": "code",
   "execution_count": null,
   "metadata": {
    "vscode": {
     "languageId": "plaintext"
    }
   },
   "outputs": [],
   "source": [
    "puzzle_input = \"\"\"\n",
    "\"\"\""
   ]
  },
  {
   "cell_type": "code",
   "execution_count": null,
   "metadata": {
    "vscode": {
     "languageId": "plaintext"
    }
   },
   "outputs": [],
   "source": [
    "import doctest\n",
    "\n",
    "NEWLINE = '\\n'\n",
    "\n",
    "def parse_input(string: str): \n",
    "    string = string.strip(NEWLINE)\n",
    "\n",
    "doctest.run_docstring_examples(parse_input, None)"
   ]
  },
  {
   "cell_type": "code",
   "execution_count": null,
   "metadata": {
    "vscode": {
     "languageId": "plaintext"
    }
   },
   "outputs": [],
   "source": [
    "test_input = \"\"\"\n",
    "\"\"\"\n",
    "\n",
    "\n",
    "print(parse_input(test_input))"
   ]
  }
 ],
 "metadata": {
  "language_info": {
   "name": "python"
  }
 },
 "nbformat": 4,
 "nbformat_minor": 2
}
